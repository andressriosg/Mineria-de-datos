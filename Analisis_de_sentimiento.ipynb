{
  "nbformat": 4,
  "nbformat_minor": 0,
  "metadata": {
    "colab": {
      "name": "Analisis de sentimiento.ipynb",
      "provenance": [],
      "authorship_tag": "ABX9TyN0Mg52nnJRbMOigDL0ZEaY",
      "include_colab_link": true
    },
    "kernelspec": {
      "name": "python3",
      "display_name": "Python 3"
    },
    "language_info": {
      "name": "python"
    }
  },
  "cells": [
    {
      "cell_type": "markdown",
      "metadata": {
        "id": "view-in-github",
        "colab_type": "text"
      },
      "source": [
        "<a href=\"https://colab.research.google.com/github/andressriosg/Mineria-de-datos/blob/main/Analisis_de_sentimiento.ipynb\" target=\"_parent\"><img src=\"https://colab.research.google.com/assets/colab-badge.svg\" alt=\"Open In Colab\"/></a>"
      ]
    },
    {
      "cell_type": "code",
      "metadata": {
        "id": "7vEQmgyAaAwR"
      },
      "source": [
        "Desarrollar acá la tarea de análisis de sentimiento "
      ],
      "execution_count": null,
      "outputs": []
    }
  ]
}