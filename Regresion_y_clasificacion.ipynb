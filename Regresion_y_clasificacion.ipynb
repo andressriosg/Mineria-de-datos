{
  "nbformat": 4,
  "nbformat_minor": 0,
  "metadata": {
    "colab": {
      "name": "Regresion y clasificacion.ipynb",
      "provenance": [],
      "authorship_tag": "ABX9TyMvpRtIQZVaCwsS7+iQOYqe",
      "include_colab_link": true
    },
    "kernelspec": {
      "name": "python3",
      "display_name": "Python 3"
    },
    "language_info": {
      "name": "python"
    }
  },
  "cells": [
    {
      "cell_type": "markdown",
      "metadata": {
        "id": "view-in-github",
        "colab_type": "text"
      },
      "source": [
        "<a href=\"https://colab.research.google.com/github/andressriosg/Mineria-de-datos/blob/main/Regresion_y_clasificacion.ipynb\" target=\"_parent\"><img src=\"https://colab.research.google.com/assets/colab-badge.svg\" alt=\"Open In Colab\"/></a>"
      ]
    },
    {
      "cell_type": "markdown",
      "metadata": {
        "id": "ipE6SKieo2yr"
      },
      "source": [
        "---\n",
        "Por: Andrés Sebastián Ríos Gutiérrez\n",
        "\n"
      ]
    },
    {
      "cell_type": "markdown",
      "metadata": {
        "id": "pRf0aaL9GpEG"
      },
      "source": [
        "## Datos de Breast Cancer Wincosin"
      ]
    },
    {
      "cell_type": "markdown",
      "metadata": {
        "id": "rZeotDMEG5NP"
      },
      "source": [
        "De acuerdo con el [enlace](https://www.kaggle.com/uciml/breast-cancer-wisconsin-data) los datos de Breast Cancer Winconsin corresponde a las características las cuáles \"se calculan a partir de una imagen digitalizada de una aspiración con aguja fina (FNA) de una masa mamaria\". En el conjunto de datos se describen las características de los núcleos celulares presentes en la imagen.\n",
        "\n",
        "Para la elaboración de la red neuronal se utilizan los enlaces: [enlace 1](https://unipython.com/desarrolla-primera-red-neural-python-keras-paso-paso/), [enlace 2](https://github.com/AprendizajeProfundo/Diplomado/tree/master/Temas/M%C3%B3dulo%208-%20Aprendizaje%20Profundo%20II/1.%20Procesamiento%20de%20Lenguaje%20natural/Cuadernos), [enlace 3](https://https://unipython.com/regresion-redes-neuronales/) y [Enlace 4](https://www.kaggle.com/tolgahancepel/boston-housing-regression-analysis)"
      ]
    },
    {
      "cell_type": "code",
      "metadata": {
        "id": "6-Dhk6BXlLhT"
      },
      "source": [
        "try:\n",
        "  %tensorflow_version 2.x\n",
        "except Exception:\n",
        "  pass"
      ],
      "execution_count": 1,
      "outputs": []
    },
    {
      "cell_type": "code",
      "metadata": {
        "id": "UujfzvJ9lEcr"
      },
      "source": [
        "from tensorflow.keras.models import Sequential\n",
        "from tensorflow.keras.layers import Dense, Dropout\n",
        "from tensorflow.keras.utils import plot_model"
      ],
      "execution_count": 2,
      "outputs": []
    },
    {
      "cell_type": "code",
      "metadata": {
        "id": "S3xrxpOGG3H4"
      },
      "source": [
        "from keras.models import Sequential # Vamos a utilizar Keras para nuestra red neuronal \n",
        "from keras.layers import Dense\n",
        "import numpy # También utilizaremos numpy \n",
        "numpy.random.seed(7)"
      ],
      "execution_count": 3,
      "outputs": []
    },
    {
      "cell_type": "code",
      "metadata": {
        "colab": {
          "resources": {
            "http://localhost:8080/nbextensions/google.colab/files.js": {
              "data": "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",
              "ok": true,
              "headers": [
                [
                  "content-type",
                  "application/javascript"
                ]
              ],
              "status": 200,
              "status_text": ""
            }
          },
          "base_uri": "https://localhost:8080/",
          "height": 73
        },
        "id": "PDWuipaaJXgG",
        "outputId": "7af98d3e-930b-4ca5-f550-bd97f13fca91"
      },
      "source": [
        "from google.colab import files # Para cargar archivos en google colab \n",
        "uploaded = files.upload() "
      ],
      "execution_count": 6,
      "outputs": [
        {
          "output_type": "display_data",
          "data": {
            "text/html": [
              "\n",
              "     <input type=\"file\" id=\"files-6f9f2647-a34d-4944-9fbd-6d032d5dd6c5\" name=\"files[]\" multiple disabled\n",
              "        style=\"border:none\" />\n",
              "     <output id=\"result-6f9f2647-a34d-4944-9fbd-6d032d5dd6c5\">\n",
              "      Upload widget is only available when the cell has been executed in the\n",
              "      current browser session. Please rerun this cell to enable.\n",
              "      </output>\n",
              "      <script src=\"/nbextensions/google.colab/files.js\"></script> "
            ],
            "text/plain": [
              "<IPython.core.display.HTML object>"
            ]
          },
          "metadata": {
            "tags": []
          }
        },
        {
          "output_type": "stream",
          "text": [
            "Saving data.csv to data.csv\n"
          ],
          "name": "stdout"
        }
      ]
    },
    {
      "cell_type": "code",
      "metadata": {
        "colab": {
          "base_uri": "https://localhost:8080/",
          "height": 241
        },
        "id": "VRaWsLCdKIPP",
        "outputId": "b09de3aa-d077-4402-af50-fa93979755b1"
      },
      "source": [
        "import pandas as pd \n",
        "import io\n",
        "dataset = pd.read_csv(io.BytesIO(uploaded['data.csv']), sep = \",\") # Acá estamos cargando la base de datos dada \n",
        "dataset.head()"
      ],
      "execution_count": 7,
      "outputs": [
        {
          "output_type": "execute_result",
          "data": {
            "text/html": [
              "<div>\n",
              "<style scoped>\n",
              "    .dataframe tbody tr th:only-of-type {\n",
              "        vertical-align: middle;\n",
              "    }\n",
              "\n",
              "    .dataframe tbody tr th {\n",
              "        vertical-align: top;\n",
              "    }\n",
              "\n",
              "    .dataframe thead th {\n",
              "        text-align: right;\n",
              "    }\n",
              "</style>\n",
              "<table border=\"1\" class=\"dataframe\">\n",
              "  <thead>\n",
              "    <tr style=\"text-align: right;\">\n",
              "      <th></th>\n",
              "      <th>id</th>\n",
              "      <th>diagnosis</th>\n",
              "      <th>radius_mean</th>\n",
              "      <th>texture_mean</th>\n",
              "      <th>perimeter_mean</th>\n",
              "      <th>area_mean</th>\n",
              "      <th>smoothness_mean</th>\n",
              "      <th>compactness_mean</th>\n",
              "      <th>concavity_mean</th>\n",
              "      <th>concave points_mean</th>\n",
              "      <th>symmetry_mean</th>\n",
              "      <th>fractal_dimension_mean</th>\n",
              "      <th>radius_se</th>\n",
              "      <th>texture_se</th>\n",
              "      <th>perimeter_se</th>\n",
              "      <th>area_se</th>\n",
              "      <th>smoothness_se</th>\n",
              "      <th>compactness_se</th>\n",
              "      <th>concavity_se</th>\n",
              "      <th>concave points_se</th>\n",
              "      <th>symmetry_se</th>\n",
              "      <th>fractal_dimension_se</th>\n",
              "      <th>radius_worst</th>\n",
              "      <th>texture_worst</th>\n",
              "      <th>perimeter_worst</th>\n",
              "      <th>area_worst</th>\n",
              "      <th>smoothness_worst</th>\n",
              "      <th>compactness_worst</th>\n",
              "      <th>concavity_worst</th>\n",
              "      <th>concave points_worst</th>\n",
              "      <th>symmetry_worst</th>\n",
              "      <th>fractal_dimension_worst</th>\n",
              "      <th>Unnamed: 32</th>\n",
              "    </tr>\n",
              "  </thead>\n",
              "  <tbody>\n",
              "    <tr>\n",
              "      <th>0</th>\n",
              "      <td>842302</td>\n",
              "      <td>M</td>\n",
              "      <td>17.99</td>\n",
              "      <td>10.38</td>\n",
              "      <td>122.80</td>\n",
              "      <td>1001.0</td>\n",
              "      <td>0.11840</td>\n",
              "      <td>0.27760</td>\n",
              "      <td>0.3001</td>\n",
              "      <td>0.14710</td>\n",
              "      <td>0.2419</td>\n",
              "      <td>0.07871</td>\n",
              "      <td>1.0950</td>\n",
              "      <td>0.9053</td>\n",
              "      <td>8.589</td>\n",
              "      <td>153.40</td>\n",
              "      <td>0.006399</td>\n",
              "      <td>0.04904</td>\n",
              "      <td>0.05373</td>\n",
              "      <td>0.01587</td>\n",
              "      <td>0.03003</td>\n",
              "      <td>0.006193</td>\n",
              "      <td>25.38</td>\n",
              "      <td>17.33</td>\n",
              "      <td>184.60</td>\n",
              "      <td>2019.0</td>\n",
              "      <td>0.1622</td>\n",
              "      <td>0.6656</td>\n",
              "      <td>0.7119</td>\n",
              "      <td>0.2654</td>\n",
              "      <td>0.4601</td>\n",
              "      <td>0.11890</td>\n",
              "      <td>NaN</td>\n",
              "    </tr>\n",
              "    <tr>\n",
              "      <th>1</th>\n",
              "      <td>842517</td>\n",
              "      <td>M</td>\n",
              "      <td>20.57</td>\n",
              "      <td>17.77</td>\n",
              "      <td>132.90</td>\n",
              "      <td>1326.0</td>\n",
              "      <td>0.08474</td>\n",
              "      <td>0.07864</td>\n",
              "      <td>0.0869</td>\n",
              "      <td>0.07017</td>\n",
              "      <td>0.1812</td>\n",
              "      <td>0.05667</td>\n",
              "      <td>0.5435</td>\n",
              "      <td>0.7339</td>\n",
              "      <td>3.398</td>\n",
              "      <td>74.08</td>\n",
              "      <td>0.005225</td>\n",
              "      <td>0.01308</td>\n",
              "      <td>0.01860</td>\n",
              "      <td>0.01340</td>\n",
              "      <td>0.01389</td>\n",
              "      <td>0.003532</td>\n",
              "      <td>24.99</td>\n",
              "      <td>23.41</td>\n",
              "      <td>158.80</td>\n",
              "      <td>1956.0</td>\n",
              "      <td>0.1238</td>\n",
              "      <td>0.1866</td>\n",
              "      <td>0.2416</td>\n",
              "      <td>0.1860</td>\n",
              "      <td>0.2750</td>\n",
              "      <td>0.08902</td>\n",
              "      <td>NaN</td>\n",
              "    </tr>\n",
              "    <tr>\n",
              "      <th>2</th>\n",
              "      <td>84300903</td>\n",
              "      <td>M</td>\n",
              "      <td>19.69</td>\n",
              "      <td>21.25</td>\n",
              "      <td>130.00</td>\n",
              "      <td>1203.0</td>\n",
              "      <td>0.10960</td>\n",
              "      <td>0.15990</td>\n",
              "      <td>0.1974</td>\n",
              "      <td>0.12790</td>\n",
              "      <td>0.2069</td>\n",
              "      <td>0.05999</td>\n",
              "      <td>0.7456</td>\n",
              "      <td>0.7869</td>\n",
              "      <td>4.585</td>\n",
              "      <td>94.03</td>\n",
              "      <td>0.006150</td>\n",
              "      <td>0.04006</td>\n",
              "      <td>0.03832</td>\n",
              "      <td>0.02058</td>\n",
              "      <td>0.02250</td>\n",
              "      <td>0.004571</td>\n",
              "      <td>23.57</td>\n",
              "      <td>25.53</td>\n",
              "      <td>152.50</td>\n",
              "      <td>1709.0</td>\n",
              "      <td>0.1444</td>\n",
              "      <td>0.4245</td>\n",
              "      <td>0.4504</td>\n",
              "      <td>0.2430</td>\n",
              "      <td>0.3613</td>\n",
              "      <td>0.08758</td>\n",
              "      <td>NaN</td>\n",
              "    </tr>\n",
              "    <tr>\n",
              "      <th>3</th>\n",
              "      <td>84348301</td>\n",
              "      <td>M</td>\n",
              "      <td>11.42</td>\n",
              "      <td>20.38</td>\n",
              "      <td>77.58</td>\n",
              "      <td>386.1</td>\n",
              "      <td>0.14250</td>\n",
              "      <td>0.28390</td>\n",
              "      <td>0.2414</td>\n",
              "      <td>0.10520</td>\n",
              "      <td>0.2597</td>\n",
              "      <td>0.09744</td>\n",
              "      <td>0.4956</td>\n",
              "      <td>1.1560</td>\n",
              "      <td>3.445</td>\n",
              "      <td>27.23</td>\n",
              "      <td>0.009110</td>\n",
              "      <td>0.07458</td>\n",
              "      <td>0.05661</td>\n",
              "      <td>0.01867</td>\n",
              "      <td>0.05963</td>\n",
              "      <td>0.009208</td>\n",
              "      <td>14.91</td>\n",
              "      <td>26.50</td>\n",
              "      <td>98.87</td>\n",
              "      <td>567.7</td>\n",
              "      <td>0.2098</td>\n",
              "      <td>0.8663</td>\n",
              "      <td>0.6869</td>\n",
              "      <td>0.2575</td>\n",
              "      <td>0.6638</td>\n",
              "      <td>0.17300</td>\n",
              "      <td>NaN</td>\n",
              "    </tr>\n",
              "    <tr>\n",
              "      <th>4</th>\n",
              "      <td>84358402</td>\n",
              "      <td>M</td>\n",
              "      <td>20.29</td>\n",
              "      <td>14.34</td>\n",
              "      <td>135.10</td>\n",
              "      <td>1297.0</td>\n",
              "      <td>0.10030</td>\n",
              "      <td>0.13280</td>\n",
              "      <td>0.1980</td>\n",
              "      <td>0.10430</td>\n",
              "      <td>0.1809</td>\n",
              "      <td>0.05883</td>\n",
              "      <td>0.7572</td>\n",
              "      <td>0.7813</td>\n",
              "      <td>5.438</td>\n",
              "      <td>94.44</td>\n",
              "      <td>0.011490</td>\n",
              "      <td>0.02461</td>\n",
              "      <td>0.05688</td>\n",
              "      <td>0.01885</td>\n",
              "      <td>0.01756</td>\n",
              "      <td>0.005115</td>\n",
              "      <td>22.54</td>\n",
              "      <td>16.67</td>\n",
              "      <td>152.20</td>\n",
              "      <td>1575.0</td>\n",
              "      <td>0.1374</td>\n",
              "      <td>0.2050</td>\n",
              "      <td>0.4000</td>\n",
              "      <td>0.1625</td>\n",
              "      <td>0.2364</td>\n",
              "      <td>0.07678</td>\n",
              "      <td>NaN</td>\n",
              "    </tr>\n",
              "  </tbody>\n",
              "</table>\n",
              "</div>"
            ],
            "text/plain": [
              "         id diagnosis  ...  fractal_dimension_worst  Unnamed: 32\n",
              "0    842302         M  ...                  0.11890          NaN\n",
              "1    842517         M  ...                  0.08902          NaN\n",
              "2  84300903         M  ...                  0.08758          NaN\n",
              "3  84348301         M  ...                  0.17300          NaN\n",
              "4  84358402         M  ...                  0.07678          NaN\n",
              "\n",
              "[5 rows x 33 columns]"
            ]
          },
          "metadata": {
            "tags": []
          },
          "execution_count": 7
        }
      ]
    },
    {
      "cell_type": "code",
      "metadata": {
        "id": "LHxhf0F_KYkK"
      },
      "source": [
        "x = dataset.iloc[:,2:32].values # Extrae como tensores numpy. x es son las variables de entrada \n",
        "y = dataset.iloc[:,1].values  # y son los datos de salida "
      ],
      "execution_count": 27,
      "outputs": []
    },
    {
      "cell_type": "code",
      "metadata": {
        "id": "qjt-A4V_MInc"
      },
      "source": [
        "from sklearn.preprocessing import LabelEncoder\n",
        "from sklearn.model_selection import train_test_split\n",
        "from sklearn.preprocessing import StandardScaler\n",
        "from sklearn.metrics import confusion_matrix\n",
        "labelencoder_y = LabelEncoder()\n",
        "y = labelencoder_y.fit_transform(y) # Recodificamos la variable objetivo"
      ],
      "execution_count": 28,
      "outputs": []
    },
    {
      "cell_type": "code",
      "metadata": {
        "colab": {
          "base_uri": "https://localhost:8080/"
        },
        "id": "dciUz9TJMbK8",
        "outputId": "371220da-12d8-4cd1-aad4-fe587b318ef2"
      },
      "source": [
        "x_train, x_test, y_train, y_test = train_test_split(x, y, test_size = 0.1, random_state = 0) # Escogemos los datos de entrenamiento y de test \n",
        "x_test.shape # Ajustamos los datos de test"
      ],
      "execution_count": 35,
      "outputs": [
        {
          "output_type": "execute_result",
          "data": {
            "text/plain": [
              "(57, 30)"
            ]
          },
          "metadata": {
            "tags": []
          },
          "execution_count": 35
        }
      ]
    },
    {
      "cell_type": "markdown",
      "metadata": {
        "id": "anqW8hnzM3Z6"
      },
      "source": [
        "Para seleccionar nuestro modelo debemos tener en cuenta que: \n",
        "\n",
        "\"Los modelos en Keras se definen como una secuencia de capas\" (ver [enlace 1](https://unipython.com/desarrolla-primera-red-neural-python-keras-paso-paso/)). Se recomienda crear un modelo secuencial y añadir capas una a una hasta que estamos satisfechos o bien con el resultado de la validación del modelo o bien con la topología de la red. \n",
        "\n",
        "**Pasos previos**: \n",
        "\n",
        "(1) Asegurarse que la capa de entrada tiene el número correcto de entradas. Esto se puede especificar al crear la primera capa con el argumento input_dim.\n",
        "\n",
        "(2) ¿Cómo sabemos el número de capas y sus tipos?. Esta es una pregunta muy difícil. Hay estructuras de redes expertas que podemos utilizar y a menudo la mejor estructura de red se encuentra a través de un proceso de *experimentación de ensayo y error*. Por lo general, se necesita una red lo suficientemente grande para capturar la estructura del problema.\n",
        "\n",
        "Lo recomendable es utilizar una estructura de red conectada con  capas."
      ]
    },
    {
      "cell_type": "markdown",
      "metadata": {
        "id": "BPmxEKSgQIhi"
      },
      "source": [
        "Usaremos la función de activación del rectificador (*relu*) en las dos primeras capas y la función de activación *sigmoide* en la capa de salida. Antes las funciones de activación *sigmoide* y *tanh* eran preferidas para todas las capas. \n",
        "\n",
        "Sin embargo, se observa un mejor rendimiento utilizando la función de activación *relu*. Utilizamos una función de activación *sigmoide* en la capa de salida para asegurarnos de que nuestra salida de red está entre 0 y 1, además de que es fácil de mapear a cualquier probabilidad de clase 1 o encajar en una clase dura de cualquiera de las dos clases con un umbral por defecto de 0,5. Unimos todo sumando cada capa. La primera capa oculta tiene 12 neuronas y espera 8 variables de entrada. La segunda capa oculta tiene 8 neuronas y finalmente la capa de salida que tiene 1 neurona para predecir la clase (cáncer de seno o no)."
      ]
    },
    {
      "cell_type": "code",
      "metadata": {
        "id": "d5g8zSh-OT1C"
      },
      "source": [
        "model = Sequential() # Para crear el modelo \n",
        "model.add(Dense(12, input_dim= 30, activation='relu'))\n",
        "model.add(Dense(8, activation='relu'))\n",
        "model.add(Dense(1, activation='sigmoid'))"
      ],
      "execution_count": 30,
      "outputs": []
    },
    {
      "cell_type": "markdown",
      "metadata": {
        "id": "Q1TuruAzQ7y3"
      },
      "source": [
        "Recordemos que se hace necesario especificar la *función de pérdida* a utilizar para evaluar un conjunto de pesos, el *optimizador* utilizado para buscar a través de diferentes pesos para la red y la *métrica* que bajo la cual se hace la optimización.\n",
        "\n",
        "En este caso, utilizaremos la *pérdida logarítmica*, que para un problema de clasificación binaria se define en Keras como “binary_crossentropy”. Se utilizará para la optimización el *algoritmo de descenso de gradiente eficiente* “adam” por su alta eficiencia en estos problemas.\n",
        "\n",
        "Finalmente, debido a que es un problema de clasificación, recopilaremos y reportaremos la exactitud de la clasificación como la métrica."
      ]
    },
    {
      "cell_type": "code",
      "metadata": {
        "id": "BDa9MwcCRaWZ"
      },
      "source": [
        "model.compile(loss='binary_crossentropy', optimizer='adam', metrics=['accuracy']) # Utilizamos este código para la compilación del modelo"
      ],
      "execution_count": 37,
      "outputs": []
    },
    {
      "cell_type": "markdown",
      "metadata": {
        "id": "hHwl8MDTRtd5"
      },
      "source": [
        "El proceso de entrenamiento se ejecutará para un número fijo de iteraciones denominado *épocas* (*epochs*). También podemos establecer el número de instancias que se evalúan antes de que se realice una actualización de peso en la red llamada *batch_size* y establecerlo mediante el argumento batch_size. Para este problema utilizaremos un pequeño número de épocas (150) y un batch_size relativamente pequeño (10). \n",
        "\n",
        "La lección es que general nosotros podemos escoger tales valores mediante el ensayo prueba-error "
      ]
    },
    {
      "cell_type": "code",
      "metadata": {
        "colab": {
          "base_uri": "https://localhost:8080/"
        },
        "id": "o4ws_16iRkSt",
        "outputId": "a70f4ee5-0a37-4570-db90-c18a07643d6f"
      },
      "source": [
        "model.fit(x_train, y_train, epochs=150, batch_size=10) # Ajuste del modelo "
      ],
      "execution_count": 38,
      "outputs": [
        {
          "output_type": "stream",
          "text": [
            "Epoch 1/150\n",
            "52/52 [==============================] - 0s 1ms/step - loss: 20.3841 - accuracy: 0.6401\n",
            "Epoch 2/150\n",
            "52/52 [==============================] - 0s 1ms/step - loss: 1.1853 - accuracy: 0.4127\n",
            "Epoch 3/150\n",
            "52/52 [==============================] - 0s 1ms/step - loss: 0.7064 - accuracy: 0.3429\n",
            "Epoch 4/150\n",
            "52/52 [==============================] - 0s 1ms/step - loss: 0.7680 - accuracy: 0.4924\n",
            "Epoch 5/150\n",
            "52/52 [==============================] - 0s 1ms/step - loss: 0.7741 - accuracy: 0.6200\n",
            "Epoch 6/150\n",
            "52/52 [==============================] - 0s 1ms/step - loss: 0.6935 - accuracy: 0.6231\n",
            "Epoch 7/150\n",
            "52/52 [==============================] - 0s 1ms/step - loss: 0.6847 - accuracy: 0.6200\n",
            "Epoch 8/150\n",
            "52/52 [==============================] - 0s 1ms/step - loss: 0.6809 - accuracy: 0.6341\n",
            "Epoch 9/150\n",
            "52/52 [==============================] - 0s 1ms/step - loss: 0.6874 - accuracy: 0.5606\n",
            "Epoch 10/150\n",
            "52/52 [==============================] - 0s 1ms/step - loss: 0.6763 - accuracy: 0.6309\n",
            "Epoch 11/150\n",
            "52/52 [==============================] - 0s 1ms/step - loss: 0.6682 - accuracy: 0.6667\n",
            "Epoch 12/150\n",
            "52/52 [==============================] - 0s 1ms/step - loss: 0.6712 - accuracy: 0.6393\n",
            "Epoch 13/150\n",
            "52/52 [==============================] - 0s 1ms/step - loss: 0.6754 - accuracy: 0.6115\n",
            "Epoch 14/150\n",
            "52/52 [==============================] - 0s 1ms/step - loss: 0.6692 - accuracy: 0.6347\n",
            "Epoch 15/150\n",
            "52/52 [==============================] - 0s 1ms/step - loss: 0.6658 - accuracy: 0.6433\n",
            "Epoch 16/150\n",
            "52/52 [==============================] - 0s 1ms/step - loss: 0.6686 - accuracy: 0.6273\n",
            "Epoch 17/150\n",
            "52/52 [==============================] - 0s 1ms/step - loss: 0.6683 - accuracy: 0.6254\n",
            "Epoch 18/150\n",
            "52/52 [==============================] - 0s 1ms/step - loss: 0.6708 - accuracy: 0.6137\n",
            "Epoch 19/150\n",
            "52/52 [==============================] - 0s 1ms/step - loss: 0.6612 - accuracy: 0.6438\n",
            "Epoch 20/150\n",
            "52/52 [==============================] - 0s 1ms/step - loss: 0.6741 - accuracy: 0.5995\n",
            "Epoch 21/150\n",
            "52/52 [==============================] - 0s 1ms/step - loss: 0.6682 - accuracy: 0.6167\n",
            "Epoch 22/150\n",
            "52/52 [==============================] - 0s 1ms/step - loss: 0.6738 - accuracy: 0.5990\n",
            "Epoch 23/150\n",
            "52/52 [==============================] - 0s 1ms/step - loss: 0.6650 - accuracy: 0.6239\n",
            "Epoch 24/150\n",
            "52/52 [==============================] - 0s 1ms/step - loss: 0.6647 - accuracy: 0.6237\n",
            "Epoch 25/150\n",
            "52/52 [==============================] - 0s 1ms/step - loss: 0.6443 - accuracy: 0.6773\n",
            "Epoch 26/150\n",
            "52/52 [==============================] - 0s 1ms/step - loss: 0.6504 - accuracy: 0.6588\n",
            "Epoch 27/150\n",
            "52/52 [==============================] - 0s 1ms/step - loss: 0.6526 - accuracy: 0.6519\n",
            "Epoch 28/150\n",
            "52/52 [==============================] - 0s 1ms/step - loss: 0.6464 - accuracy: 0.6663\n",
            "Epoch 29/150\n",
            "52/52 [==============================] - 0s 1ms/step - loss: 0.6518 - accuracy: 0.6517\n",
            "Epoch 30/150\n",
            "52/52 [==============================] - 0s 1ms/step - loss: 0.6639 - accuracy: 0.6218\n",
            "Epoch 31/150\n",
            "52/52 [==============================] - 0s 1ms/step - loss: 0.6576 - accuracy: 0.6363\n",
            "Epoch 32/150\n",
            "52/52 [==============================] - 0s 1ms/step - loss: 0.6683 - accuracy: 0.6112\n",
            "Epoch 33/150\n",
            "52/52 [==============================] - 0s 1ms/step - loss: 0.6723 - accuracy: 0.6018\n",
            "Epoch 34/150\n",
            "52/52 [==============================] - 0s 1ms/step - loss: 0.6606 - accuracy: 0.6283\n",
            "Epoch 35/150\n",
            "52/52 [==============================] - 0s 1ms/step - loss: 0.6584 - accuracy: 0.6330\n",
            "Epoch 36/150\n",
            "52/52 [==============================] - 0s 1ms/step - loss: 0.6721 - accuracy: 0.6028\n",
            "Epoch 37/150\n",
            "52/52 [==============================] - 0s 1ms/step - loss: 0.6508 - accuracy: 0.6494\n",
            "Epoch 38/150\n",
            "52/52 [==============================] - 0s 1ms/step - loss: 0.6644 - accuracy: 0.6195\n",
            "Epoch 39/150\n",
            "52/52 [==============================] - 0s 1ms/step - loss: 0.6394 - accuracy: 0.6735\n",
            "Epoch 40/150\n",
            "52/52 [==============================] - 0s 1ms/step - loss: 0.6554 - accuracy: 0.6386\n",
            "Epoch 41/150\n",
            "52/52 [==============================] - 0s 1ms/step - loss: 0.6777 - accuracy: 0.5911\n",
            "Epoch 42/150\n",
            "52/52 [==============================] - 0s 1ms/step - loss: 0.6653 - accuracy: 0.6176\n",
            "Epoch 43/150\n",
            "52/52 [==============================] - 0s 2ms/step - loss: 0.6672 - accuracy: 0.6135\n",
            "Epoch 44/150\n",
            "52/52 [==============================] - 0s 1ms/step - loss: 0.6599 - accuracy: 0.6287\n",
            "Epoch 45/150\n",
            "52/52 [==============================] - 0s 1ms/step - loss: 0.6550 - accuracy: 0.6387\n",
            "Epoch 46/150\n",
            "52/52 [==============================] - 0s 1ms/step - loss: 0.6668 - accuracy: 0.6145\n",
            "Epoch 47/150\n",
            "52/52 [==============================] - 0s 1ms/step - loss: 0.6648 - accuracy: 0.6186\n",
            "Epoch 48/150\n",
            "52/52 [==============================] - 0s 1ms/step - loss: 0.6527 - accuracy: 0.6430\n",
            "Epoch 49/150\n",
            "52/52 [==============================] - 0s 1ms/step - loss: 0.6547 - accuracy: 0.6389\n",
            "Epoch 50/150\n",
            "52/52 [==============================] - 0s 1ms/step - loss: 0.6531 - accuracy: 0.6420\n",
            "Epoch 51/150\n",
            "52/52 [==============================] - 0s 1ms/step - loss: 0.6532 - accuracy: 0.6417\n",
            "Epoch 52/150\n",
            "52/52 [==============================] - 0s 1ms/step - loss: 0.6654 - accuracy: 0.6175\n",
            "Epoch 53/150\n",
            "52/52 [==============================] - 0s 1ms/step - loss: 0.6540 - accuracy: 0.6401\n",
            "Epoch 54/150\n",
            "52/52 [==============================] - 0s 1ms/step - loss: 0.6484 - accuracy: 0.6512\n",
            "Epoch 55/150\n",
            "52/52 [==============================] - 0s 1ms/step - loss: 0.6618 - accuracy: 0.6248\n",
            "Epoch 56/150\n",
            "52/52 [==============================] - 0s 1ms/step - loss: 0.6815 - accuracy: 0.5857\n",
            "Epoch 57/150\n",
            "52/52 [==============================] - 0s 1ms/step - loss: 0.6470 - accuracy: 0.6538\n",
            "Epoch 58/150\n",
            "52/52 [==============================] - 0s 1ms/step - loss: 0.6445 - accuracy: 0.6583\n",
            "Epoch 59/150\n",
            "52/52 [==============================] - 0s 1ms/step - loss: 0.6556 - accuracy: 0.6368\n",
            "Epoch 60/150\n",
            "52/52 [==============================] - 0s 1ms/step - loss: 0.6520 - accuracy: 0.6436\n",
            "Epoch 61/150\n",
            "52/52 [==============================] - 0s 1ms/step - loss: 0.6423 - accuracy: 0.6623\n",
            "Epoch 62/150\n",
            "52/52 [==============================] - 0s 1ms/step - loss: 0.6585 - accuracy: 0.6309\n",
            "Epoch 63/150\n",
            "52/52 [==============================] - 0s 1ms/step - loss: 0.6537 - accuracy: 0.6403\n",
            "Epoch 64/150\n",
            "52/52 [==============================] - 0s 1ms/step - loss: 0.6558 - accuracy: 0.6361\n",
            "Epoch 65/150\n",
            "52/52 [==============================] - 0s 1ms/step - loss: 0.6556 - accuracy: 0.6366\n",
            "Epoch 66/150\n",
            "52/52 [==============================] - 0s 1ms/step - loss: 0.6674 - accuracy: 0.6137\n",
            "Epoch 67/150\n",
            "52/52 [==============================] - 0s 1ms/step - loss: 0.6644 - accuracy: 0.6195\n",
            "Epoch 68/150\n",
            "52/52 [==============================] - 0s 1ms/step - loss: 0.6524 - accuracy: 0.6428\n",
            "Epoch 69/150\n",
            "52/52 [==============================] - 0s 1ms/step - loss: 0.6436 - accuracy: 0.6595\n",
            "Epoch 70/150\n",
            "52/52 [==============================] - 0s 1ms/step - loss: 0.6538 - accuracy: 0.6399\n",
            "Epoch 71/150\n",
            "52/52 [==============================] - 0s 1ms/step - loss: 0.6475 - accuracy: 0.6523\n",
            "Epoch 72/150\n",
            "52/52 [==============================] - 0s 1ms/step - loss: 0.6471 - accuracy: 0.6529\n",
            "Epoch 73/150\n",
            "52/52 [==============================] - 0s 1ms/step - loss: 0.6479 - accuracy: 0.6515\n",
            "Epoch 74/150\n",
            "52/52 [==============================] - 0s 1ms/step - loss: 0.6727 - accuracy: 0.6036\n",
            "Epoch 75/150\n",
            "52/52 [==============================] - 0s 1ms/step - loss: 0.6660 - accuracy: 0.6164\n",
            "Epoch 76/150\n",
            "52/52 [==============================] - 0s 1ms/step - loss: 0.6697 - accuracy: 0.6094\n",
            "Epoch 77/150\n",
            "52/52 [==============================] - 0s 1ms/step - loss: 0.6551 - accuracy: 0.6376\n",
            "Epoch 78/150\n",
            "52/52 [==============================] - 0s 1ms/step - loss: 0.6553 - accuracy: 0.6371\n",
            "Epoch 79/150\n",
            "52/52 [==============================] - 0s 1ms/step - loss: 0.6509 - accuracy: 0.6455\n",
            "Epoch 80/150\n",
            "52/52 [==============================] - 0s 1ms/step - loss: 0.6533 - accuracy: 0.6408\n",
            "Epoch 81/150\n",
            "52/52 [==============================] - 0s 1ms/step - loss: 0.6566 - accuracy: 0.6346\n",
            "Epoch 82/150\n",
            "52/52 [==============================] - 0s 1ms/step - loss: 0.6569 - accuracy: 0.6340\n",
            "Epoch 83/150\n",
            "52/52 [==============================] - 0s 1ms/step - loss: 0.6554 - accuracy: 0.6369\n",
            "Epoch 84/150\n",
            "52/52 [==============================] - 0s 1ms/step - loss: 0.6702 - accuracy: 0.6086\n",
            "Epoch 85/150\n",
            "52/52 [==============================] - 0s 1ms/step - loss: 0.6582 - accuracy: 0.6314\n",
            "Epoch 86/150\n",
            "52/52 [==============================] - 0s 2ms/step - loss: 0.6666 - accuracy: 0.6157\n",
            "Epoch 87/150\n",
            "52/52 [==============================] - 0s 1ms/step - loss: 0.6463 - accuracy: 0.6540\n",
            "Epoch 88/150\n",
            "52/52 [==============================] - 0s 1ms/step - loss: 0.6745 - accuracy: 0.6004\n",
            "Epoch 89/150\n",
            "52/52 [==============================] - 0s 1ms/step - loss: 0.6655 - accuracy: 0.6176\n",
            "Epoch 90/150\n",
            "52/52 [==============================] - 0s 1ms/step - loss: 0.6567 - accuracy: 0.6343\n",
            "Epoch 91/150\n",
            "52/52 [==============================] - 0s 1ms/step - loss: 0.6530 - accuracy: 0.6415\n",
            "Epoch 92/150\n",
            "52/52 [==============================] - 0s 1ms/step - loss: 0.6515 - accuracy: 0.6441\n",
            "Epoch 93/150\n",
            "52/52 [==============================] - 0s 1ms/step - loss: 0.6599 - accuracy: 0.6282\n",
            "Epoch 94/150\n",
            "52/52 [==============================] - 0s 1ms/step - loss: 0.6786 - accuracy: 0.5925\n",
            "Epoch 95/150\n",
            "52/52 [==============================] - 0s 1ms/step - loss: 0.6587 - accuracy: 0.6307\n",
            "Epoch 96/150\n",
            "52/52 [==============================] - 0s 1ms/step - loss: 0.6599 - accuracy: 0.6283\n",
            "Epoch 97/150\n",
            "52/52 [==============================] - 0s 1ms/step - loss: 0.6689 - accuracy: 0.6112\n",
            "Epoch 98/150\n",
            "52/52 [==============================] - 0s 1ms/step - loss: 0.6686 - accuracy: 0.6116\n",
            "Epoch 99/150\n",
            "52/52 [==============================] - 0s 1ms/step - loss: 0.6495 - accuracy: 0.6479\n",
            "Epoch 100/150\n",
            "52/52 [==============================] - 0s 2ms/step - loss: 0.6665 - accuracy: 0.6158\n",
            "Epoch 101/150\n",
            "52/52 [==============================] - 0s 2ms/step - loss: 0.6514 - accuracy: 0.6445\n",
            "Epoch 102/150\n",
            "52/52 [==============================] - 0s 1ms/step - loss: 0.6491 - accuracy: 0.6486\n",
            "Epoch 103/150\n",
            "52/52 [==============================] - 0s 1ms/step - loss: 0.6648 - accuracy: 0.6189\n",
            "Epoch 104/150\n",
            "52/52 [==============================] - 0s 1ms/step - loss: 0.6646 - accuracy: 0.6194\n",
            "Epoch 105/150\n",
            "52/52 [==============================] - 0s 1ms/step - loss: 0.6560 - accuracy: 0.6356\n",
            "Epoch 106/150\n",
            "52/52 [==============================] - 0s 1ms/step - loss: 0.6567 - accuracy: 0.6343\n",
            "Epoch 107/150\n",
            "52/52 [==============================] - 0s 1ms/step - loss: 0.6590 - accuracy: 0.6299\n",
            "Epoch 108/150\n",
            "52/52 [==============================] - 0s 1ms/step - loss: 0.6695 - accuracy: 0.6102\n",
            "Epoch 109/150\n",
            "52/52 [==============================] - 0s 1ms/step - loss: 0.6564 - accuracy: 0.6348\n",
            "Epoch 110/150\n",
            "52/52 [==============================] - 0s 1ms/step - loss: 0.6458 - accuracy: 0.6547\n",
            "Epoch 111/150\n",
            "52/52 [==============================] - 0s 1ms/step - loss: 0.6683 - accuracy: 0.6126\n",
            "Epoch 112/150\n",
            "52/52 [==============================] - 0s 1ms/step - loss: 0.6610 - accuracy: 0.6261\n",
            "Epoch 113/150\n",
            "52/52 [==============================] - 0s 1ms/step - loss: 0.6637 - accuracy: 0.6211\n",
            "Epoch 114/150\n",
            "52/52 [==============================] - 0s 2ms/step - loss: 0.6652 - accuracy: 0.6184\n",
            "Epoch 115/150\n",
            "52/52 [==============================] - 0s 1ms/step - loss: 0.6698 - accuracy: 0.6097\n",
            "Epoch 116/150\n",
            "52/52 [==============================] - 0s 1ms/step - loss: 0.6538 - accuracy: 0.6398\n",
            "Epoch 117/150\n",
            "52/52 [==============================] - 0s 1ms/step - loss: 0.6307 - accuracy: 0.6832\n",
            "Epoch 118/150\n",
            "52/52 [==============================] - 0s 1ms/step - loss: 0.6634 - accuracy: 0.6217\n",
            "Epoch 119/150\n",
            "52/52 [==============================] - 0s 1ms/step - loss: 0.6587 - accuracy: 0.6305\n",
            "Epoch 120/150\n",
            "52/52 [==============================] - 0s 1ms/step - loss: 0.6572 - accuracy: 0.6334\n",
            "Epoch 121/150\n",
            "52/52 [==============================] - 0s 1ms/step - loss: 0.6503 - accuracy: 0.6462\n",
            "Epoch 122/150\n",
            "52/52 [==============================] - 0s 1ms/step - loss: 0.6606 - accuracy: 0.6269\n",
            "Epoch 123/150\n",
            "52/52 [==============================] - 0s 1ms/step - loss: 0.6611 - accuracy: 0.6260\n",
            "Epoch 124/150\n",
            "52/52 [==============================] - 0s 1ms/step - loss: 0.6630 - accuracy: 0.6225\n",
            "Epoch 125/150\n",
            "52/52 [==============================] - 0s 1ms/step - loss: 0.6738 - accuracy: 0.6020\n",
            "Epoch 126/150\n",
            "52/52 [==============================] - 0s 1ms/step - loss: 0.6738 - accuracy: 0.6021\n",
            "Epoch 127/150\n",
            "52/52 [==============================] - 0s 1ms/step - loss: 0.6836 - accuracy: 0.5838\n",
            "Epoch 128/150\n",
            "52/52 [==============================] - 0s 2ms/step - loss: 0.6573 - accuracy: 0.6331\n",
            "Epoch 129/150\n",
            "52/52 [==============================] - 0s 1ms/step - loss: 0.6533 - accuracy: 0.6406\n",
            "Epoch 130/150\n",
            "52/52 [==============================] - 0s 1ms/step - loss: 0.6674 - accuracy: 0.6142\n",
            "Epoch 131/150\n",
            "52/52 [==============================] - 0s 1ms/step - loss: 0.6585 - accuracy: 0.6310\n",
            "Epoch 132/150\n",
            "52/52 [==============================] - 0s 1ms/step - loss: 0.6495 - accuracy: 0.6479\n",
            "Epoch 133/150\n",
            "52/52 [==============================] - 0s 1ms/step - loss: 0.6557 - accuracy: 0.6362\n",
            "Epoch 134/150\n",
            "52/52 [==============================] - 0s 1ms/step - loss: 0.6551 - accuracy: 0.6374\n",
            "Epoch 135/150\n",
            "52/52 [==============================] - 0s 1ms/step - loss: 0.6546 - accuracy: 0.6382\n",
            "Epoch 136/150\n",
            "52/52 [==============================] - 0s 1ms/step - loss: 0.6474 - accuracy: 0.6519\n",
            "Epoch 137/150\n",
            "52/52 [==============================] - 0s 1ms/step - loss: 0.6563 - accuracy: 0.6350\n",
            "Epoch 138/150\n",
            "52/52 [==============================] - 0s 1ms/step - loss: 0.6531 - accuracy: 0.6411\n",
            "Epoch 139/150\n",
            "52/52 [==============================] - 0s 1ms/step - loss: 0.6443 - accuracy: 0.6576\n",
            "Epoch 140/150\n",
            "52/52 [==============================] - 0s 1ms/step - loss: 0.6617 - accuracy: 0.6249\n",
            "Epoch 141/150\n",
            "52/52 [==============================] - 0s 1ms/step - loss: 0.6326 - accuracy: 0.6797\n",
            "Epoch 142/150\n",
            "52/52 [==============================] - 0s 1ms/step - loss: 0.6475 - accuracy: 0.6516\n",
            "Epoch 143/150\n",
            "52/52 [==============================] - 0s 1ms/step - loss: 0.6733 - accuracy: 0.6031\n",
            "Epoch 144/150\n",
            "52/52 [==============================] - 0s 1ms/step - loss: 0.6605 - accuracy: 0.6271\n",
            "Epoch 145/150\n",
            "52/52 [==============================] - 0s 1ms/step - loss: 0.6706 - accuracy: 0.6081\n",
            "Epoch 146/150\n",
            "52/52 [==============================] - 0s 1ms/step - loss: 0.6605 - accuracy: 0.6271\n",
            "Epoch 147/150\n",
            "52/52 [==============================] - 0s 1ms/step - loss: 0.6454 - accuracy: 0.6556\n",
            "Epoch 148/150\n",
            "52/52 [==============================] - 0s 1ms/step - loss: 0.6550 - accuracy: 0.6375\n",
            "Epoch 149/150\n",
            "52/52 [==============================] - 0s 1ms/step - loss: 0.6693 - accuracy: 0.6107\n",
            "Epoch 150/150\n",
            "52/52 [==============================] - 0s 1ms/step - loss: 0.6684 - accuracy: 0.6126\n"
          ],
          "name": "stdout"
        },
        {
          "output_type": "execute_result",
          "data": {
            "text/plain": [
              "<tensorflow.python.keras.callbacks.History at 0x7fbe036b2310>"
            ]
          },
          "metadata": {
            "tags": []
          },
          "execution_count": 38
        }
      ]
    },
    {
      "cell_type": "code",
      "metadata": {
        "colab": {
          "base_uri": "https://localhost:8080/"
        },
        "id": "8QwD9MUOfYct",
        "outputId": "abeb7654-55fe-4123-9e7e-f4963b565eb1"
      },
      "source": [
        "predictions = model.predict(x)\n",
        "rounded = [round(x[0]) for x in predictions] # redondeamos las predicciones\n",
        "print(rounded)"
      ],
      "execution_count": 41,
      "outputs": [
        {
          "output_type": "stream",
          "text": [
            "[0, 0, 0, 0, 0, 0, 0, 0, 0, 0, 0, 0, 0, 0, 0, 0, 0, 0, 0, 0, 0, 0, 0, 0, 0, 0, 0, 0, 0, 0, 0, 0, 0, 0, 0, 0, 0, 0, 0, 0, 0, 0, 0, 0, 0, 0, 0, 0, 0, 0, 0, 0, 0, 0, 0, 0, 0, 0, 0, 0, 0, 0, 0, 0, 0, 0, 0, 0, 0, 0, 0, 0, 0, 0, 0, 0, 0, 0, 0, 0, 0, 0, 0, 0, 0, 0, 0, 0, 0, 0, 0, 0, 0, 0, 0, 0, 0, 0, 0, 0, 0, 0, 0, 0, 0, 0, 0, 0, 0, 0, 0, 0, 0, 0, 0, 0, 0, 0, 0, 0, 0, 0, 0, 0, 0, 0, 0, 0, 0, 0, 0, 0, 0, 0, 0, 0, 0, 0, 0, 0, 0, 0, 0, 0, 0, 0, 0, 0, 0, 0, 0, 0, 0, 0, 0, 0, 0, 0, 0, 0, 0, 0, 0, 0, 0, 0, 0, 0, 0, 0, 0, 0, 0, 0, 0, 0, 0, 0, 0, 0, 0, 0, 0, 0, 0, 0, 0, 0, 0, 0, 0, 0, 0, 0, 0, 0, 0, 0, 0, 0, 0, 0, 0, 0, 0, 0, 0, 0, 0, 0, 0, 0, 0, 0, 0, 0, 0, 0, 0, 0, 0, 0, 0, 0, 0, 0, 0, 0, 0, 0, 0, 0, 0, 0, 0, 0, 0, 0, 0, 0, 0, 0, 0, 0, 0, 0, 0, 0, 0, 0, 0, 0, 0, 0, 0, 0, 0, 0, 0, 0, 0, 0, 0, 0, 0, 0, 0, 0, 0, 0, 0, 0, 0, 0, 0, 0, 0, 0, 0, 0, 0, 0, 0, 0, 0, 0, 0, 0, 0, 0, 0, 0, 0, 0, 0, 0, 0, 0, 0, 0, 0, 0, 0, 0, 0, 0, 0, 0, 0, 0, 0, 0, 0, 0, 0, 0, 0, 0, 0, 0, 0, 0, 0, 0, 0, 0, 0, 0, 0, 0, 0, 0, 0, 0, 0, 0, 0, 0, 0, 0, 0, 0, 0, 0, 0, 0, 0, 0, 0, 0, 0, 0, 0, 0, 0, 0, 0, 0, 0, 0, 0, 0, 0, 0, 0, 0, 0, 0, 0, 0, 0, 0, 0, 0, 0, 0, 0, 0, 0, 0, 0, 0, 0, 0, 0, 0, 0, 0, 0, 0, 0, 0, 0, 0, 0, 0, 0, 0, 0, 0, 0, 0, 0, 0, 0, 0, 0, 0, 0, 0, 0, 0, 0, 0, 0, 0, 0, 0, 0, 0, 0, 0, 0, 0, 0, 0, 0, 0, 0, 0, 0, 0, 0, 0, 0, 0, 0, 0, 0, 0, 0, 0, 0, 0, 0, 0, 0, 0, 0, 0, 0, 0, 0, 0, 0, 0, 0, 0, 0, 0, 0, 0, 0, 0, 0, 0, 0, 0, 0, 0, 0, 0, 0, 0, 0, 0, 0, 0, 0, 0, 0, 0, 0, 0, 0, 0, 0, 0, 0, 0, 0, 0, 0, 0, 0, 0, 0, 0, 0, 0, 0, 0, 0, 0, 0, 0, 0, 0, 0, 0, 0, 0, 0, 0, 0, 0, 0, 0, 0, 0, 0, 0, 0, 0, 0, 0, 0, 0, 0, 0, 0, 0, 0, 0, 0, 0, 0, 0, 0, 0, 0, 0, 0, 0, 0, 0, 0, 0, 0, 0, 0, 0, 0, 0, 0, 0, 0, 0, 0, 0, 0, 0, 0, 0, 0, 0, 0, 0, 0]\n"
          ],
          "name": "stdout"
        }
      ]
    },
    {
      "cell_type": "code",
      "metadata": {
        "colab": {
          "base_uri": "https://localhost:8080/"
        },
        "id": "reLS1kGAeVtM",
        "outputId": "1c7f17ca-9b67-4f4c-c774-6ead5386177c"
      },
      "source": [
        "scores = model.evaluate(x_test, y_test) # Evaluamos nuestro modelo para los datos de prueba \n",
        "print(\"\\n%s: %.2f%%\" % (model.metrics_names[1], scores[1]*100))"
      ],
      "execution_count": 40,
      "outputs": [
        {
          "output_type": "stream",
          "text": [
            "2/2 [==============================] - 0s 5ms/step - loss: 0.6675 - accuracy: 0.6140\n",
            "\n",
            "accuracy: 61.40%\n"
          ],
          "name": "stdout"
        }
      ]
    },
    {
      "cell_type": "markdown",
      "metadata": {
        "id": "4Q5MTpvbkoOm"
      },
      "source": [
        "Tenemos una precisión del 61.4% la cual no es muy buena, por lo que deberíamos aumentar la cantidad de capas en nuestro modelo "
      ]
    },
    {
      "cell_type": "markdown",
      "metadata": {
        "id": "6dTgeDi8g18V"
      },
      "source": [
        "0.0 corresponde a no hay cáncer de mama en la paciente y 1.0 si hay cáncer de mamá en la paciente "
      ]
    },
    {
      "cell_type": "code",
      "metadata": {
        "id": "SAFa82nJhSQQ"
      },
      "source": [
        "from tensorflow.keras.layers import Dropout\n",
        "from tensorflow.keras.utils import plot_model\n",
        "from sklearn.preprocessing import StandardScaler\n",
        "from sklearn.metrics import confusion_matrix\n",
        "model = Sequential() \n",
        "model.add(Dense(12, input_dim= 30, activation='relu'))\n",
        "model.add(Dense(8, activation='relu'))\n",
        "model.add(Dense(1, activation='sigmoid'))\n",
        "model.add(Dropout(0.1)) # Agregamos dropout para prevenir un sobreajuste (regularización)\n",
        "model.add(Dense(units=1, activation='sigmoid'))"
      ],
      "execution_count": 45,
      "outputs": []
    },
    {
      "cell_type": "code",
      "metadata": {
        "colab": {
          "base_uri": "https://localhost:8080/",
          "height": 950
        },
        "id": "cFbEUQv0iZLJ",
        "outputId": "0b7b81c7-3702-4247-9e7b-76e4dfd6eb52"
      },
      "source": [
        "model.summary()\n",
        "plot_model(model, to_file = \"modelo.png\", show_shapes=True)"
      ],
      "execution_count": 47,
      "outputs": [
        {
          "output_type": "stream",
          "text": [
            "Model: \"sequential_4\"\n",
            "_________________________________________________________________\n",
            "Layer (type)                 Output Shape              Param #   \n",
            "=================================================================\n",
            "dense_12 (Dense)             (None, 12)                372       \n",
            "_________________________________________________________________\n",
            "dense_13 (Dense)             (None, 8)                 104       \n",
            "_________________________________________________________________\n",
            "dense_14 (Dense)             (None, 1)                 9         \n",
            "_________________________________________________________________\n",
            "dropout (Dropout)            (None, 1)                 0         \n",
            "_________________________________________________________________\n",
            "dense_15 (Dense)             (None, 1)                 2         \n",
            "=================================================================\n",
            "Total params: 487\n",
            "Trainable params: 487\n",
            "Non-trainable params: 0\n",
            "_________________________________________________________________\n"
          ],
          "name": "stdout"
        },
        {
          "output_type": "execute_result",
          "data": {
            "image/png": "[encoded data removed]",
            "text/plain": [
              "<IPython.core.display.Image object>"
            ]
          },
          "metadata": {
            "tags": []
          },
          "execution_count": 47
        }
      ]
    },
    {
      "cell_type": "code",
      "metadata": {
        "id": "cZky9vzwiyn_"
      },
      "source": [
        "y_pred = model.predict(x_test)\n",
        "y_pred[y_pred > 0.5] = 1\n",
        "y_pred[y_pred <=0.5] = 0"
      ],
      "execution_count": 51,
      "outputs": []
    },
    {
      "cell_type": "code",
      "metadata": {
        "id": "psegIj0gjJJ8"
      },
      "source": [
        "mc = confusion_matrix(y_test, y_pred) # Matriz de confusión "
      ],
      "execution_count": 52,
      "outputs": []
    },
    {
      "cell_type": "code",
      "metadata": {
        "colab": {
          "base_uri": "https://localhost:8080/"
        },
        "id": "tWT-ofc9jTDN",
        "outputId": "2f79b0e1-208b-40a8-8546-774ef8e3f004"
      },
      "source": [
        "print(\"Our accuracy is {}%\".format(((mc[0][0] + mc[1][1])/y_test.shape[0])*100))"
      ],
      "execution_count": 53,
      "outputs": [
        {
          "output_type": "stream",
          "text": [
            "Our accuracy is 38.59649122807017%\n"
          ],
          "name": "stdout"
        }
      ]
    },
    {
      "cell_type": "code",
      "metadata": {
        "colab": {
          "base_uri": "https://localhost:8080/",
          "height": 286
        },
        "id": "T0OnF1sHjWEA",
        "outputId": "6009c9c1-218f-4b64-dcb4-d89aeea78779"
      },
      "source": [
        "from __future__ import absolute_import, division, print_function, unicode_literals\n",
        "import matplotlib.pyplot as plt\n",
        "import seaborn as sns\n",
        "print(tf.__version__)\n",
        "sns.heatmap(mc,annot=True)\n",
        "plt.savefig('h.png')"
      ],
      "execution_count": 56,
      "outputs": [
        {
          "output_type": "stream",
          "text": [
            "2.4.1\n"
          ],
          "name": "stdout"
        },
        {
          "output_type": "display_data",
          "data": {
            "image/png": "[encoded data removed]",
            "text/plain": [
              "<Figure size 432x288 with 2 Axes>"
            ]
          },
          "metadata": {
            "tags": [],
            "needs_background": "light"
          }
        }
      ]
    },
    {
      "cell_type": "code",
      "metadata": {
        "id": "FwDL0fMhhlrT"
      },
      "source": [
        "def plot_metric(history, metric):\n",
        "    train_metrics = history.history[metric]\n",
        "    val_metrics = history.history['val_'+metric]\n",
        "    epochs = range(1, len(train_metrics) + 1)\n",
        "    plt.plot(epochs, train_metrics, 'bo--')\n",
        "    plt.plot(epochs, val_metrics, 'ro-')\n",
        "    plt.title('Entrenamiento y validación '+ metric)\n",
        "    plt.xlabel(\"Epochs\")\n",
        "    plt.ylabel(metric)\n",
        "    plt.legend([\"train_\"+metric, 'val_'+metric])\n",
        "    plt.show()"
      ],
      "execution_count": 59,
      "outputs": []
    },
    {
      "cell_type": "code",
      "metadata": {
        "id": "q4Q_NYaukWwi"
      },
      "source": [
        "plot_metric(history, 'loss')\n",
        "plot_metric(history, 'accuracy')"
      ],
      "execution_count": null,
      "outputs": []
    },
    {
      "cell_type": "markdown",
      "metadata": {
        "id": "ts9wulT1NXmf"
      },
      "source": [
        "## Datos de Boston Housing "
      ]
    },
    {
      "cell_type": "code",
      "metadata": {
        "colab": {
          "resources": {
            "http://localhost:8080/nbextensions/google.colab/files.js": {
              "data": "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",
              "ok": true,
              "headers": [
                [
                  "content-type",
                  "application/javascript"
                ]
              ],
              "status": 200,
              "status_text": ""
            }
          },
          "base_uri": "https://localhost:8080/",
          "height": 73
        },
        "id": "2Ln5jp5TNrsK",
        "outputId": "72f7b571-6b01-4efd-d6a9-29333ca91bae"
      },
      "source": [
        "from google.colab import files # Para cargar archivos en google colab \n",
        "uploaded = files.upload() "
      ],
      "execution_count": 9,
      "outputs": [
        {
          "output_type": "display_data",
          "data": {
            "text/html": [
              "\n",
              "     <input type=\"file\" id=\"files-2dd09312-85f3-4387-9ea4-133b0cbaf186\" name=\"files[]\" multiple disabled\n",
              "        style=\"border:none\" />\n",
              "     <output id=\"result-2dd09312-85f3-4387-9ea4-133b0cbaf186\">\n",
              "      Upload widget is only available when the cell has been executed in the\n",
              "      current browser session. Please rerun this cell to enable.\n",
              "      </output>\n",
              "      <script src=\"/nbextensions/google.colab/files.js\"></script> "
            ],
            "text/plain": [
              "<IPython.core.display.HTML object>"
            ]
          },
          "metadata": {
            "tags": []
          }
        },
        {
          "output_type": "stream",
          "text": [
            "Saving housing.csv to housing (1).csv\n"
          ],
          "name": "stdout"
        }
      ]
    },
    {
      "cell_type": "code",
      "metadata": {
        "colab": {
          "base_uri": "https://localhost:8080/"
        },
        "id": "XSTHFO6GQdSO",
        "outputId": "536f11dc-f8ea-4fad-9624-4ad0c78eee02"
      },
      "source": [
        "import pandas as pd \n",
        "import io\n",
        "data = pd.read_csv(io.BytesIO(uploaded['housing.csv']), sep = \",\") # Acá estamos cargando la base de datos dada \n",
        "print(data.head())\n",
        "tabla1 = pd.concat([data[\"RM\"], data[\"LSTAT\"],  data[\"PTRATIO\"], data[\"MEDV\"]], axis = 1)\n",
        "print(tabla1.head())"
      ],
      "execution_count": 66,
      "outputs": [
        {
          "output_type": "stream",
          "text": [
            "      RM  LSTAT  PTRATIO      MEDV\n",
            "0  6.575   4.98     15.3  504000.0\n",
            "1  6.421   9.14     17.8  453600.0\n",
            "2  7.185   4.03     17.8  728700.0\n",
            "3  6.998   2.94     18.7  701400.0\n",
            "4  7.147   5.33     18.7  760200.0\n",
            "      RM  LSTAT  PTRATIO      MEDV\n",
            "0  6.575   4.98     15.3  504000.0\n",
            "1  6.421   9.14     17.8  453600.0\n",
            "2  7.185   4.03     17.8  728700.0\n",
            "3  6.998   2.94     18.7  701400.0\n",
            "4  7.147   5.33     18.7  760200.0\n"
          ],
          "name": "stdout"
        }
      ]
    },
    {
      "cell_type": "code",
      "metadata": {
        "colab": {
          "base_uri": "https://localhost:8080/",
          "height": 732
        },
        "id": "oCtAA_LkTkNM",
        "outputId": "abd71f55-fdfe-466f-8e67-4e872ae80df1"
      },
      "source": [
        "import matplotlib.pyplot as plt\n",
        "import seaborn as sns\n",
        "corr = data.corr() # Para visualizar los datos \n",
        "fig, ax = plt.subplots(figsize=(10, 10)) #Plot figsize\n",
        "sns.heatmap(corr, cmap='RdBu', annot=True, fmt=\".2f\") #Generate Heat Map, allow annotations and place floats in map\n",
        "plt.xticks(range(len(corr.columns)), corr.columns); #Apply xticks\n",
        "plt.yticks(range(len(corr.columns)), corr.columns) #Apply yticks \n",
        "#plt.show()"
      ],
      "execution_count": 16,
      "outputs": [
        {
          "output_type": "execute_result",
          "data": {
            "text/plain": [
              "([<matplotlib.axis.YTick at 0x7f2c588ec890>,\n",
              "  <matplotlib.axis.YTick at 0x7f2c588ec0d0>,\n",
              "  <matplotlib.axis.YTick at 0x7f2c58869710>,\n",
              "  <matplotlib.axis.YTick at 0x7f2c58886790>],\n",
              " [Text(0, 0.5, 'RM'),\n",
              "  Text(0, 1.5, 'LSTAT'),\n",
              "  Text(0, 2.5, 'PTRATIO'),\n",
              "  Text(0, 3.5, 'MEDV')])"
            ]
          },
          "metadata": {
            "tags": []
          },
          "execution_count": 16
        },
        {
          "output_type": "display_data",
          "data": {
            "image/png": "[encoded data removed]",
            "text/plain": [
              "<Figure size 720x720 with 2 Axes>"
            ]
          },
          "metadata": {
            "tags": [],
            "needs_background": "light"
          }
        }
      ]
    },
    {
      "cell_type": "code",
      "metadata": {
        "colab": {
          "base_uri": "https://localhost:8080/",
          "height": 726
        },
        "id": "RqaqVzQJT_Ut",
        "outputId": "77e800d4-d411-435f-c780-1fe6e4a97f84"
      },
      "source": [
        "sns.pairplot(data)\n",
        "plt.show()"
      ],
      "execution_count": 17,
      "outputs": [
        {
          "output_type": "display_data",
          "data": {
            "image/png": "[encoded data removed]",
            "text/plain": [
              "<Figure size 720x720 with 20 Axes>"
            ]
          },
          "metadata": {
            "tags": [],
            "needs_background": "light"
          }
        }
      ]
    },
    {
      "cell_type": "code",
      "metadata": {
        "colab": {
          "base_uri": "https://localhost:8080/",
          "height": 419
        },
        "id": "CqKQCP4aQqPk",
        "outputId": "be05d680-a15a-43c7-e189-54cf2ed869c9"
      },
      "source": [
        "x = pd.concat([data[\"RM\"], data[\"LSTAT\"],  data[\"PTRATIO\"]], axis = 1)\n",
        "y = tabla1[\"MEDV\"]  # y son los datos de salida\n",
        "x"
      ],
      "execution_count": 72,
      "outputs": [
        {
          "output_type": "execute_result",
          "data": {
            "text/html": [
              "<div>\n",
              "<style scoped>\n",
              "    .dataframe tbody tr th:only-of-type {\n",
              "        vertical-align: middle;\n",
              "    }\n",
              "\n",
              "    .dataframe tbody tr th {\n",
              "        vertical-align: top;\n",
              "    }\n",
              "\n",
              "    .dataframe thead th {\n",
              "        text-align: right;\n",
              "    }\n",
              "</style>\n",
              "<table border=\"1\" class=\"dataframe\">\n",
              "  <thead>\n",
              "    <tr style=\"text-align: right;\">\n",
              "      <th></th>\n",
              "      <th>RM</th>\n",
              "      <th>LSTAT</th>\n",
              "      <th>PTRATIO</th>\n",
              "    </tr>\n",
              "  </thead>\n",
              "  <tbody>\n",
              "    <tr>\n",
              "      <th>0</th>\n",
              "      <td>6.575</td>\n",
              "      <td>4.98</td>\n",
              "      <td>15.3</td>\n",
              "    </tr>\n",
              "    <tr>\n",
              "      <th>1</th>\n",
              "      <td>6.421</td>\n",
              "      <td>9.14</td>\n",
              "      <td>17.8</td>\n",
              "    </tr>\n",
              "    <tr>\n",
              "      <th>2</th>\n",
              "      <td>7.185</td>\n",
              "      <td>4.03</td>\n",
              "      <td>17.8</td>\n",
              "    </tr>\n",
              "    <tr>\n",
              "      <th>3</th>\n",
              "      <td>6.998</td>\n",
              "      <td>2.94</td>\n",
              "      <td>18.7</td>\n",
              "    </tr>\n",
              "    <tr>\n",
              "      <th>4</th>\n",
              "      <td>7.147</td>\n",
              "      <td>5.33</td>\n",
              "      <td>18.7</td>\n",
              "    </tr>\n",
              "    <tr>\n",
              "      <th>...</th>\n",
              "      <td>...</td>\n",
              "      <td>...</td>\n",
              "      <td>...</td>\n",
              "    </tr>\n",
              "    <tr>\n",
              "      <th>484</th>\n",
              "      <td>6.593</td>\n",
              "      <td>9.67</td>\n",
              "      <td>21.0</td>\n",
              "    </tr>\n",
              "    <tr>\n",
              "      <th>485</th>\n",
              "      <td>6.120</td>\n",
              "      <td>9.08</td>\n",
              "      <td>21.0</td>\n",
              "    </tr>\n",
              "    <tr>\n",
              "      <th>486</th>\n",
              "      <td>6.976</td>\n",
              "      <td>5.64</td>\n",
              "      <td>21.0</td>\n",
              "    </tr>\n",
              "    <tr>\n",
              "      <th>487</th>\n",
              "      <td>6.794</td>\n",
              "      <td>6.48</td>\n",
              "      <td>21.0</td>\n",
              "    </tr>\n",
              "    <tr>\n",
              "      <th>488</th>\n",
              "      <td>6.030</td>\n",
              "      <td>7.88</td>\n",
              "      <td>21.0</td>\n",
              "    </tr>\n",
              "  </tbody>\n",
              "</table>\n",
              "<p>489 rows × 3 columns</p>\n",
              "</div>"
            ],
            "text/plain": [
              "        RM  LSTAT  PTRATIO\n",
              "0    6.575   4.98     15.3\n",
              "1    6.421   9.14     17.8\n",
              "2    7.185   4.03     17.8\n",
              "3    6.998   2.94     18.7\n",
              "4    7.147   5.33     18.7\n",
              "..     ...    ...      ...\n",
              "484  6.593   9.67     21.0\n",
              "485  6.120   9.08     21.0\n",
              "486  6.976   5.64     21.0\n",
              "487  6.794   6.48     21.0\n",
              "488  6.030   7.88     21.0\n",
              "\n",
              "[489 rows x 3 columns]"
            ]
          },
          "metadata": {
            "tags": []
          },
          "execution_count": 72
        }
      ]
    },
    {
      "cell_type": "code",
      "metadata": {
        "colab": {
          "base_uri": "https://localhost:8080/"
        },
        "id": "4-zZJBf5R2CG",
        "outputId": "74e5dec5-7907-4967-b47c-fc4c484652e9"
      },
      "source": [
        "from sklearn.preprocessing import LabelEncoder\n",
        "from sklearn.model_selection import train_test_split\n",
        "from sklearn.preprocessing import StandardScaler\n",
        "from sklearn.metrics import confusion_matrix\n",
        "labelencoder_y = LabelEncoder()\n",
        "y = labelencoder_y.fit_transform(y) # Recodificamos la variable objetivo\n",
        "x_train, x_test, y_train, y_test = train_test_split(x, y, test_size = 0.1, random_state = 0) # Escogemos los datos de entrenamiento y de test \n",
        "x_test.shape # Ajustamos los datos de test"
      ],
      "execution_count": 73,
      "outputs": [
        {
          "output_type": "execute_result",
          "data": {
            "text/plain": [
              "(49, 3)"
            ]
          },
          "metadata": {
            "tags": []
          },
          "execution_count": 73
        }
      ]
    },
    {
      "cell_type": "code",
      "metadata": {
        "id": "giQYnc2HR__P"
      },
      "source": [
        "from keras.models import Sequential\n",
        "from keras.layers import Dense\n",
        "from keras.wrappers.scikit_learn import KerasRegressor # Para hacer nuestra regresión \n",
        "from sklearn.model_selection import cross_val_score\n",
        "from sklearn.model_selection import KFold\n",
        "from sklearn.preprocessing import StandardScaler\n",
        "from sklearn.pipeline import Pipeline"
      ],
      "execution_count": 74,
      "outputs": []
    },
    {
      "cell_type": "code",
      "metadata": {
        "id": "xQjx9xUbUdVR"
      },
      "source": [
        "model = Sequential() \n",
        "model.add(Dense(4, input_dim=3, kernel_initializer='normal', activation='relu'))\n",
        "model.add(Dense(1, kernel_initializer='normal'))\n",
        "model.compile(loss='mean_squared_error', optimizer='adam')"
      ],
      "execution_count": 75,
      "outputs": []
    },
    {
      "cell_type": "code",
      "metadata": {
        "colab": {
          "base_uri": "https://localhost:8080/",
          "height": 312
        },
        "id": "aKHVtNIqgOoN",
        "outputId": "dc3ee503-2975-4310-a1fa-e26f14f71949"
      },
      "source": [
        "from tensorflow.keras.layers import Dropout\n",
        "from tensorflow.keras.utils import plot_model\n",
        "from sklearn.preprocessing import StandardScaler\n",
        "from sklearn.metrics import confusion_matrix\n",
        "plot_model(model, to_file = \"modelo.png\", show_shapes=True)"
      ],
      "execution_count": 79,
      "outputs": [
        {
          "output_type": "execute_result",
          "data": {
            "image/png": "[encoded data removed]",
            "text/plain": [
              "<IPython.core.display.Image object>"
            ]
          },
          "metadata": {
            "tags": []
          },
          "execution_count": 79
        }
      ]
    },
    {
      "cell_type": "code",
      "metadata": {
        "id": "D3_5V0EhYK8F"
      },
      "source": [
        "import numpy\n",
        "estimator = KerasRegressor(build_fn= model, epochs=100, batch_size=5, verbose=0) # evaluamos el modelo"
      ],
      "execution_count": 76,
      "outputs": []
    },
    {
      "cell_type": "code",
      "metadata": {
        "colab": {
          "base_uri": "https://localhost:8080/"
        },
        "id": "l7Lg0eHrYjjr",
        "outputId": "4fb07a60-687c-486c-8b6a-41ba42f0756d"
      },
      "source": [
        "seed = 7\n",
        "numpy.random.seed(seed)\n",
        "kfold = KFold(n_splits=10, random_state=seed) \n",
        "results = cross_val_score(estimator, x_train, y_train, cv=kfold) # Usaremos validación cruzada para la validación \n",
        "print(\"Baseline: %.2f (%.2f) MSE\" % (results.mean(), results.std()))"
      ],
      "execution_count": 77,
      "outputs": [
        {
          "output_type": "stream",
          "text": [
            "Baseline: nan (nan) MSE\n"
          ],
          "name": "stdout"
        },
        {
          "output_type": "stream",
          "text": [
            "/usr/local/lib/python3.7/dist-packages/sklearn/model_selection/_split.py:296: FutureWarning: Setting a random_state has no effect since shuffle is False. This will raise an error in 0.24. You should leave random_state to its default (None), or set shuffle=True.\n",
            "  FutureWarning\n",
            "/usr/local/lib/python3.7/dist-packages/sklearn/model_selection/_validation.py:536: FitFailedWarning: Estimator fit failed. The score on this train-test partition for these parameters will be set to nan. Details: \n",
            "ValueError: The first argument to `Layer.call` must always be passed.\n",
            "\n",
            "  FitFailedWarning)\n"
          ],
          "name": "stderr"
        }
      ]
    },
    {
      "cell_type": "code",
      "metadata": {
        "colab": {
          "base_uri": "https://localhost:8080/"
        },
        "id": "7DbbEDDeZKc_",
        "outputId": "e6c7eb3d-f731-4752-f7dc-71018ab41476"
      },
      "source": [
        "import numpy as np\n",
        "x = np.expand_dims (x, axis= 0)\n",
        "y = np.expand_dims (y, axis= 0)\n",
        "model.fit(x_train, y_train) # Entrenamos el modelo "
      ],
      "execution_count": 78,
      "outputs": [
        {
          "output_type": "stream",
          "text": [
            "14/14 [==============================] - 1s 2ms/step - loss: 13966.7234\n"
          ],
          "name": "stdout"
        },
        {
          "output_type": "execute_result",
          "data": {
            "text/plain": [
              "<tensorflow.python.keras.callbacks.History at 0x7f2c476ea5d0>"
            ]
          },
          "metadata": {
            "tags": []
          },
          "execution_count": 78
        }
      ]
    },
    {
      "cell_type": "code",
      "metadata": {
        "colab": {
          "base_uri": "https://localhost:8080/"
        },
        "id": "TFKB2V6lY42s",
        "outputId": "2ff9fc7d-961b-463e-c2b5-c9c0d3fc316e"
      },
      "source": [
        "predictions = model.predict(x)\n",
        "predictions # Las predicciones para ñps datps de entrenamiento"
      ],
      "execution_count": 82,
      "outputs": [
        {
          "output_type": "execute_result",
          "data": {
            "text/plain": [
              "array([[[0.07916398],\n",
              "        [0.09262295],\n",
              "        [0.08190435],\n",
              "        [0.07843369],\n",
              "        [0.08626768],\n",
              "        [0.08192158],\n",
              "        [0.0977747 ],\n",
              "        [0.11835906],\n",
              "        [0.14693597],\n",
              "        [0.11141559],\n",
              "        [0.12331079],\n",
              "        [0.10021961],\n",
              "        [0.10670152],\n",
              "        [0.09013589],\n",
              "        [0.09681585],\n",
              "        [0.09011063],\n",
              "        [0.08513464],\n",
              "        [0.10914885],\n",
              "        [0.09744099],\n",
              "        [0.09774923],\n",
              "        [0.12541771],\n",
              "        [0.10654794],\n",
              "        [0.12186418],\n",
              "        [0.1234307 ],\n",
              "        [0.11355788],\n",
              "        [0.1123627 ],\n",
              "        [0.10857303],\n",
              "        [0.11711501],\n",
              "        [0.10648218],\n",
              "        [0.10507639],\n",
              "        [0.13084456],\n",
              "        [0.10482894],\n",
              "        [0.14713977],\n",
              "        [0.11832307],\n",
              "        [0.12635534],\n",
              "        [0.09267733],\n",
              "        [0.09723458],\n",
              "        [0.08954819],\n",
              "        [0.09417991],\n",
              "        [0.07989249],\n",
              "        [0.07542509],\n",
              "        [0.08205113],\n",
              "        [0.08154552],\n",
              "        [0.08655623],\n",
              "        [0.09194851],\n",
              "        [0.09172665],\n",
              "        [0.10385221],\n",
              "        [0.11883841],\n",
              "        [0.15051843],\n",
              "        [0.10883468],\n",
              "        [0.10185148],\n",
              "        [0.09091766],\n",
              "        [0.0809622 ],\n",
              "        [0.08733533],\n",
              "        [0.10904661],\n",
              "        [0.08463174],\n",
              "        [0.08211024],\n",
              "        [0.0773181 ],\n",
              "        [0.08601958],\n",
              "        [0.09172109],\n",
              "        [0.10220176],\n",
              "        [0.1072356 ],\n",
              "        [0.0873712 ],\n",
              "        [0.09719345],\n",
              "        [0.09391406],\n",
              "        [0.0773481 ],\n",
              "        [0.09086879],\n",
              "        [0.08748561],\n",
              "        [0.10052665],\n",
              "        [0.08954665],\n",
              "        [0.08669943],\n",
              "        [0.09341943],\n",
              "        [0.08122182],\n",
              "        [0.08814423],\n",
              "        [0.08564782],\n",
              "        [0.09205014],\n",
              "        [0.10089058],\n",
              "        [0.09513433],\n",
              "        [0.10171302],\n",
              "        [0.09022374],\n",
              "        [0.08406575],\n",
              "        [0.08911994],\n",
              "        [0.08588867],\n",
              "        [0.08745168],\n",
              "        [0.09444661],\n",
              "        [0.08673398],\n",
              "        [0.10185789],\n",
              "        [0.08949558],\n",
              "        [0.08522056],\n",
              "        [0.08620778],\n",
              "        [0.0916336 ],\n",
              "        [0.08977915],\n",
              "        [0.09020822],\n",
              "        [0.08320682],\n",
              "        [0.09625414],\n",
              "        [0.08663258],\n",
              "        [0.09780282],\n",
              "        [0.08752674],\n",
              "        [0.08426403],\n",
              "        [0.08969125],\n",
              "        [0.0977845 ],\n",
              "        [0.09295696],\n",
              "        [0.09953654],\n",
              "        [0.10627821],\n",
              "        [0.10319249],\n",
              "        [0.11356433],\n",
              "        [0.11989857],\n",
              "        [0.10812734],\n",
              "        [0.10472697],\n",
              "        [0.11297412],\n",
              "        [0.10531192],\n",
              "        [0.09724997],\n",
              "        [0.11051154],\n",
              "        [0.1140876 ],\n",
              "        [0.09553155],\n",
              "        [0.10927638],\n",
              "        [0.09975652],\n",
              "        [0.09379393],\n",
              "        [0.10782149],\n",
              "        [0.1018783 ],\n",
              "        [0.10598539],\n",
              "        [0.10643886],\n",
              "        [0.11692494],\n",
              "        [0.13826017],\n",
              "        [0.11544244],\n",
              "        [0.10792105],\n",
              "        [0.14232783],\n",
              "        [0.11504918],\n",
              "        [0.11388572],\n",
              "        [0.11810729],\n",
              "        [0.10586002],\n",
              "        [0.10412827],\n",
              "        [0.10104376],\n",
              "        [0.10943796],\n",
              "        [0.11575739],\n",
              "        [0.11795178],\n",
              "        [0.11558653],\n",
              "        [0.11166944],\n",
              "        [0.12806582],\n",
              "        [0.12132247],\n",
              "        [0.13815449],\n",
              "        [0.1617576 ],\n",
              "        [0.1361267 ],\n",
              "        [0.13531661],\n",
              "        [0.14057954],\n",
              "        [0.14304875],\n",
              "        [0.10757694],\n",
              "        [0.14141098],\n",
              "        [0.13931353],\n",
              "        [0.12147067],\n",
              "        [0.10285625],\n",
              "        [0.09645323],\n",
              "        [0.09086999],\n",
              "        [0.10550797],\n",
              "        [0.10588437],\n",
              "        [0.10571945],\n",
              "        [0.10409909],\n",
              "        [0.079561  ],\n",
              "        [0.08006731],\n",
              "        [0.08535413],\n",
              "        [0.07836701],\n",
              "        [0.09415418],\n",
              "        [0.09016739],\n",
              "        [0.09574756],\n",
              "        [0.09516223],\n",
              "        [0.09626935],\n",
              "        [0.10244729],\n",
              "        [0.09544192],\n",
              "        [0.10313696],\n",
              "        [0.09128156],\n",
              "        [0.08993679],\n",
              "        [0.08113363],\n",
              "        [0.09221108],\n",
              "        [0.08266   ],\n",
              "        [0.08754244],\n",
              "        [0.0837221 ],\n",
              "        [0.09548025],\n",
              "        [0.09198824],\n",
              "        [0.08405232],\n",
              "        [0.0832745 ],\n",
              "        [0.10225506],\n",
              "        [0.10288124],\n",
              "        [0.085214  ],\n",
              "        [0.07774228],\n",
              "        [0.08367878],\n",
              "        [0.08152533],\n",
              "        [0.07914273],\n",
              "        [0.07625492],\n",
              "        [0.08081912],\n",
              "        [0.07782237],\n",
              "        [0.078197  ],\n",
              "        [0.09046941],\n",
              "        [0.08556807],\n",
              "        [0.08160728],\n",
              "        [0.0821763 ],\n",
              "        [0.08353263],\n",
              "        [0.07893972],\n",
              "        [0.08234484],\n",
              "        [0.09542041],\n",
              "        [0.09813686],\n",
              "        [0.11588906],\n",
              "        [0.10749081],\n",
              "        [0.12818381],\n",
              "        [0.11456004],\n",
              "        [0.13112622],\n",
              "        [0.11007385],\n",
              "        [0.09375034],\n",
              "        [0.1474937 ],\n",
              "        [0.09293887],\n",
              "        [0.10126933],\n",
              "        [0.09427537],\n",
              "        [0.11454384],\n",
              "        [0.09515047],\n",
              "        [0.09690584],\n",
              "        [0.12695487],\n",
              "        [0.09714945],\n",
              "        [0.08886732],\n",
              "        [0.08790886],\n",
              "        [0.08368999],\n",
              "        [0.08826971],\n",
              "        [0.08403294],\n",
              "        [0.07724649],\n",
              "        [0.0971871 ],\n",
              "        [0.08640404],\n",
              "        [0.08341046],\n",
              "        [0.08724621],\n",
              "        [0.09078772],\n",
              "        [0.09551558],\n",
              "        [0.09462492],\n",
              "        [0.08457935],\n",
              "        [0.08378993],\n",
              "        [0.08744612],\n",
              "        [0.10081862],\n",
              "        [0.09933975],\n",
              "        [0.09734695],\n",
              "        [0.07987098],\n",
              "        [0.09896216],\n",
              "        [0.11649482],\n",
              "        [0.09204336],\n",
              "        [0.09560195],\n",
              "        [0.09490894],\n",
              "        [0.08782238],\n",
              "        [0.08460134],\n",
              "        [0.07755889],\n",
              "        [0.08027443],\n",
              "        [0.08755724],\n",
              "        [0.08215725],\n",
              "        [0.08871852],\n",
              "        [0.07909113],\n",
              "        [0.08966562],\n",
              "        [0.08432208],\n",
              "        [0.09421629],\n",
              "        [0.08915424],\n",
              "        [0.09008943],\n",
              "        [0.09977174],\n",
              "        [0.08986655],\n",
              "        [0.08758329],\n",
              "        [0.10840198],\n",
              "        [0.07686062],\n",
              "        [0.10372877],\n",
              "        [0.10146739],\n",
              "        [0.08482213],\n",
              "        [0.08982308],\n",
              "        [0.09287642],\n",
              "        [0.07789019],\n",
              "        [0.07681324],\n",
              "        [0.08811073],\n",
              "        [0.08011524],\n",
              "        [0.08707823],\n",
              "        [0.07976319],\n",
              "        [0.08218455],\n",
              "        [0.07987034],\n",
              "        [0.07901174],\n",
              "        [0.09043248],\n",
              "        [0.08800845],\n",
              "        [0.10300566],\n",
              "        [0.08456039],\n",
              "        [0.08649896],\n",
              "        [0.09348899],\n",
              "        [0.07923856],\n",
              "        [0.08151147],\n",
              "        [0.08196644],\n",
              "        [0.08781326],\n",
              "        [0.09248939],\n",
              "        [0.08411343],\n",
              "        [0.08667694],\n",
              "        [0.10721128],\n",
              "        [0.07742813],\n",
              "        [0.08063157],\n",
              "        [0.08358206],\n",
              "        [0.09317376],\n",
              "        [0.09021218],\n",
              "        [0.08176006],\n",
              "        [0.09119719],\n",
              "        [0.09360416],\n",
              "        [0.09087424],\n",
              "        [0.0907995 ],\n",
              "        [0.08084509],\n",
              "        [0.09306413],\n",
              "        [0.0953231 ],\n",
              "        [0.08220707],\n",
              "        [0.09847663],\n",
              "        [0.08863586],\n",
              "        [0.09435685],\n",
              "        [0.09606034],\n",
              "        [0.11724004],\n",
              "        [0.10950075],\n",
              "        [0.09649116],\n",
              "        [0.10193783],\n",
              "        [0.08849637],\n",
              "        [0.08725075],\n",
              "        [0.08781676],\n",
              "        [0.09780085],\n",
              "        [0.08527015],\n",
              "        [0.08231156],\n",
              "        [0.08478424],\n",
              "        [0.10296702],\n",
              "        [0.09120913],\n",
              "        [0.08609243],\n",
              "        [0.09016789],\n",
              "        [0.09751566],\n",
              "        [0.08584592],\n",
              "        [0.08393943],\n",
              "        [0.08704165],\n",
              "        [0.08921319],\n",
              "        [0.09352285],\n",
              "        [0.09589489],\n",
              "        [0.090801  ],\n",
              "        [0.09399326],\n",
              "        [0.09257984],\n",
              "        [0.08453894],\n",
              "        [0.09023419],\n",
              "        [0.08824113],\n",
              "        [0.08170138],\n",
              "        [0.09527935],\n",
              "        [0.10090439],\n",
              "        [0.08509044],\n",
              "        [0.08390374],\n",
              "        [0.08760041],\n",
              "        [0.08536275],\n",
              "        [0.08323205],\n",
              "        [0.08610032],\n",
              "        [0.0800554 ],\n",
              "        [0.08877757],\n",
              "        [0.0830308 ],\n",
              "        [0.11829168],\n",
              "        [0.10662208],\n",
              "        [0.09988344],\n",
              "        [0.10328718],\n",
              "        [0.09057961],\n",
              "        [0.1085159 ],\n",
              "        [0.09184124],\n",
              "        [0.10733882],\n",
              "        [0.07281113],\n",
              "        [0.10078362],\n",
              "        [0.09269202],\n",
              "        [0.16133265],\n",
              "        [0.16643171],\n",
              "        [0.11223449],\n",
              "        [0.13725427],\n",
              "        [0.13220106],\n",
              "        [0.13707438],\n",
              "        [0.13060246],\n",
              "        [0.12136048],\n",
              "        [0.13034499],\n",
              "        [0.13210867],\n",
              "        [0.13483281],\n",
              "        [0.14620313],\n",
              "        [0.1517947 ],\n",
              "        [0.14089863],\n",
              "        [0.15370953],\n",
              "        [0.14902622],\n",
              "        [0.1232364 ],\n",
              "        [0.11407577],\n",
              "        [0.12079412],\n",
              "        [0.1354186 ],\n",
              "        [0.11106469],\n",
              "        [0.11281796],\n",
              "        [0.11832793],\n",
              "        [0.12455387],\n",
              "        [0.1224999 ],\n",
              "        [0.1521305 ],\n",
              "        [0.15253644],\n",
              "        [0.1439109 ],\n",
              "        [0.12699245],\n",
              "        [0.12730297],\n",
              "        [0.11984305],\n",
              "        [0.14315811],\n",
              "        [0.1311107 ],\n",
              "        [0.12355842],\n",
              "        [0.09889689],\n",
              "        [0.14076532],\n",
              "        [0.12824564],\n",
              "        [0.09380735],\n",
              "        [0.13137922],\n",
              "        [0.1586117 ],\n",
              "        [0.11967072],\n",
              "        [0.16565306],\n",
              "        [0.15308271],\n",
              "        [0.145468  ],\n",
              "        [0.13972491],\n",
              "        [0.12572119],\n",
              "        [0.13676395],\n",
              "        [0.11183959],\n",
              "        [0.11157607],\n",
              "        [0.10489282],\n",
              "        [0.13435902],\n",
              "        [0.11339778],\n",
              "        [0.13642934],\n",
              "        [0.11060525],\n",
              "        [0.10921001],\n",
              "        [0.12967339],\n",
              "        [0.13821729],\n",
              "        [0.11916655],\n",
              "        [0.12787604],\n",
              "        [0.10315539],\n",
              "        [0.11549549],\n",
              "        [0.11114825],\n",
              "        [0.13723077],\n",
              "        [0.12099758],\n",
              "        [0.14389238],\n",
              "        [0.16486739],\n",
              "        [0.13050567],\n",
              "        [0.12931326],\n",
              "        [0.12499903],\n",
              "        [0.11537085],\n",
              "        [0.1234757 ],\n",
              "        [0.13443705],\n",
              "        [0.13836434],\n",
              "        [0.11956713],\n",
              "        [0.11510955],\n",
              "        [0.11969441],\n",
              "        [0.12444489],\n",
              "        [0.12081444],\n",
              "        [0.12114061],\n",
              "        [0.11779813],\n",
              "        [0.12235084],\n",
              "        [0.1244192 ],\n",
              "        [0.12158857],\n",
              "        [0.1211089 ],\n",
              "        [0.11481993],\n",
              "        [0.11477269],\n",
              "        [0.1090634 ],\n",
              "        [0.11755791],\n",
              "        [0.11056033],\n",
              "        [0.10829751],\n",
              "        [0.09854656],\n",
              "        [0.10543934],\n",
              "        [0.10559912],\n",
              "        [0.11552447],\n",
              "        [0.1280288 ],\n",
              "        [0.11825152],\n",
              "        [0.10718907],\n",
              "        [0.11420201],\n",
              "        [0.10452509],\n",
              "        [0.11005032],\n",
              "        [0.10516302],\n",
              "        [0.11550087],\n",
              "        [0.1370614 ],\n",
              "        [0.12297194],\n",
              "        [0.13465515],\n",
              "        [0.11940137],\n",
              "        [0.10522841],\n",
              "        [0.09835553],\n",
              "        [0.09239411],\n",
              "        [0.09198745],\n",
              "        [0.09474367],\n",
              "        [0.10390799],\n",
              "        [0.09827662],\n",
              "        [0.11006778],\n",
              "        [0.09855874],\n",
              "        [0.1153318 ],\n",
              "        [0.13242824],\n",
              "        [0.14737312],\n",
              "        [0.11830819],\n",
              "        [0.1044762 ],\n",
              "        [0.09824635],\n",
              "        [0.10409662],\n",
              "        [0.11442176],\n",
              "        [0.12323585],\n",
              "        [0.10485579],\n",
              "        [0.10265128],\n",
              "        [0.10653281],\n",
              "        [0.10682786],\n",
              "        [0.09785566],\n",
              "        [0.09349155],\n",
              "        [0.08817942],\n",
              "        [0.08962712],\n",
              "        [0.08947355]]], dtype=float32)"
            ]
          },
          "metadata": {
            "tags": []
          },
          "execution_count": 82
        }
      ]
    },
    {
      "cell_type": "code",
      "metadata": {
        "colab": {
          "base_uri": "https://localhost:8080/"
        },
        "id": "UDDI6Twog5kP",
        "outputId": "fa0d63ff-8729-4c3d-de61-28539ddf32f2"
      },
      "source": [
        "import statistics\n",
        "scores = model.evaluate(x_test, y_test) # Para validar nuestro modelo\n",
        "print(\"Nuestro coeficiente de determinación es {}%\".format(int(scores)/(10*statistics.variance(y_test, xbar=None)))) "
      ],
      "execution_count": 127,
      "outputs": [
        {
          "output_type": "stream",
          "text": [
            "2/2 [==============================] - 0s 4ms/step - loss: 15585.5869\n",
            "Nuestro coeficiente de determinación es 0.44630584192439865%\n"
          ],
          "name": "stdout"
        }
      ]
    }
  ]
}